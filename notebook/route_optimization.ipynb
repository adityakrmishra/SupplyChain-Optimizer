{
 "cells": [
  {
   "cell_type": "markdown",
   "metadata": {},
   "source": [
    "# ---\n",
    "# jupyter:\n",
    "#   jupytext:\n",
    "#     text_representation:\n",
    "#       extension: .py\n",
    "#       format_name: light\n",
    "#       format_version: '1.5'\n",
    "#       jupytext_version: 1.16.1\n",
    "#   kernelspec:\n",
    "#     display_name: supplychain\n",
    "#     language: python\n",
    "#     name: python3\n",
    "# ---"
   ]
  },
  {
   "cell_type": "markdown",
   "metadata": {},
   "source": [
    "# %% [markdown]\n",
    "# # Supply Chain Route Optimization 🚛🌍\n",
    "# **Author**: Logistics Optimization Team  \n",
    "# **Last Updated**: 2023-11-20  \n",
    "# **Version**: 1.2.0"
   ]
  },
  {
   "cell_type": "markdown",
   "metadata": {},
   "source": [
    "# %% [markdown]\n",
    "# ## 1. Environment Setup"
   ]
  },
  {
   "cell_type": "markdown",
   "metadata": {},
   "source": [
    "# %%\n",
    "# Core"
   ]
  },
  {
   "cell_type": "code",
   "execution_count": null,
   "metadata": {
    "vscode": {
     "languageId": "plaintext"
    }
   },
   "outputs": [],
   "source": [
    "import numpy as np\n",
    "import pandas as pd\n",
    "import matplotlib.pyplot as plt\n",
    "import networkx as nx\n",
    "from datetime import datetime\n"
   ]
  },
  {
   "cell_type": "markdown",
   "metadata": {},
   "source": [
    "# Geospatial"
   ]
  },
  {
   "cell_type": "code",
   "execution_count": null,
   "metadata": {
    "vscode": {
     "languageId": "plaintext"
    }
   },
   "outputs": [],
   "source": [
    "import osmnx as ox\n",
    "import geopandas as gpd\n",
    "import folium\n",
    "from folium.plugins import MarkerCluster\n"
   ]
  },
  {
   "cell_type": "markdown",
   "metadata": {},
   "source": [
    "# Optimization"
   ]
  },
  {
   "cell_type": "code",
   "execution_count": null,
   "metadata": {
    "vscode": {
     "languageId": "plaintext"
    }
   },
   "outputs": [],
   "source": [
    "from route_optimizer.graphhopper_api import GraphHopperClient\n",
    "from route_optimizer.carbon_footprint import CarbonCalculator\n"
   ]
  },
  {
   "cell_type": "markdown",
   "metadata": {},
   "source": [
    "# Blockchain"
   ]
  },
  {
   "cell_type": "code",
   "execution_count": null,
   "metadata": {
    "vscode": {
     "languageId": "plaintext"
    }
   },
   "outputs": [],
   "source": [
    "from blockchain.web3_integration import BlockchainIntegrator"
   ]
  },
  {
   "cell_type": "code",
   "execution_count": null,
   "metadata": {
    "vscode": {
     "languageId": "plaintext"
    }
   },
   "outputs": [],
   "source": [
    "# Utilities"
   ]
  },
  {
   "cell_type": "code",
   "execution_count": null,
   "metadata": {
    "vscode": {
     "languageId": "plaintext"
    }
   },
   "outputs": [],
   "source": [
    "import json\n",
    "from tqdm import tqdm\n",
    "warnings.filterwarnings('ignore')"
   ]
  },
  {
   "cell_type": "markdown",
   "metadata": {},
   "source": [
    "# %%\n",
    "# Configuration"
   ]
  },
  {
   "cell_type": "code",
   "execution_count": null,
   "metadata": {
    "vscode": {
     "languageId": "plaintext"
    }
   },
   "outputs": [],
   "source": [
    "ox.config(log_console=True, use_cache=True)\n",
    "GRAPHHOPPER_KEY = os.getenv(\"GRAPHHOPPER_API_KEY\")\n",
    "CONTRACT_ADDRESS = \"0x123...supplychain-contract-address\"\n"
   ]
  },
  {
   "cell_type": "markdown",
   "metadata": {},
   "source": [
    "# %% [markdown]\n",
    "# ## 2. Transportation Network Analysis\n"
   ]
  },
  {
   "cell_type": "markdown",
   "metadata": {},
   "source": [
    "# %%"
   ]
  },
  {
   "cell_type": "code",
   "execution_count": null,
   "metadata": {
    "vscode": {
     "languageId": "plaintext"
    }
   },
   "outputs": [],
   "source": [
    "def visualize_network(location=\"Berlin, Germany\", network_type=\"drive\"):\n",
    "    \"\"\"Visualize city transportation network\"\"\"\n",
    "    G = ox.graph_from_place(location, network_type=network_type)\n",
    "    fig, ax = ox.plot_graph(G, node_size=0, edge_linewidth=0.5)\n",
    "    \n",
    "    # Calculate network stats\n",
    "    stats = ox.basic_stats(G)\n",
    "    print(f\"Network Density: {stats['street_density_km']:.2f} km/km²\")\n",
    "    print(f\"Total Road Length: {stats['street_length_total']/1000:.1f} km\")\n",
    "    \n",
    "    return G"
   ]
  },
  {
   "cell_type": "markdown",
   "metadata": {},
   "source": [
    "# %%\n",
    "# Generate Berlin road network"
   ]
  },
  {
   "cell_type": "code",
   "execution_count": null,
   "metadata": {
    "vscode": {
     "languageId": "plaintext"
    }
   },
   "outputs": [],
   "source": [
    "G = visualize_network()"
   ]
  },
  {
   "cell_type": "markdown",
   "metadata": {},
   "source": [
    "# %% [markdown]\n",
    "# ## 3. Single Route Optimization"
   ]
  },
  {
   "cell_type": "markdown",
   "metadata": {},
   "source": [
    "# %%"
   ]
  },
  {
   "cell_type": "code",
   "execution_count": null,
   "metadata": {
    "vscode": {
     "languageId": "plaintext"
    }
   },
   "outputs": [],
   "source": [
    "def optimize_single_route(origin, destination, vehicle_type=\"truck\"):\n",
    "    \"\"\"Optimize route between two points\"\"\"\n",
    "    gh = GraphHopperClient()\n",
    "    \n",
    "    # Get coordinates\n",
    "    origin_geo = ox.geocode(origin)\n",
    "    dest_geo = ox.geocode(destination)\n",
    "    \n",
    "    # Optimize route\n",
    "    route = gh.get_route(\n",
    "        RouteOptimizationRequest(\n",
    "            waypoints=[origin_geo, dest_geo],\n",
    "            vehicle=vehicle_type\n",
    "        )\n",
    "    )\n",
    "    \n",
    "    # Calculate emissions\n",
    "    calc = CarbonCalculator()\n",
    "    emissions = calc.calculate_co2(\n",
    "        route.distance/1000, \n",
    "        vehicle_type=\"diesel_truck\",\n",
    "        load_kg=5000\n",
    "    )\n",
    "    \n",
    "    return route, emissions\n"
   ]
  },
  {
   "cell_type": "markdown",
   "metadata": {},
   "source": [
    "# %%\n",
    "# Optimize Berlin to Hamburg route"
   ]
  },
  {
   "cell_type": "code",
   "execution_count": null,
   "metadata": {
    "vscode": {
     "languageId": "plaintext"
    }
   },
   "outputs": [],
   "source": [
    "route, emissions = optimize_single_route(\n",
    "    \"Berlin Central Station\",\n",
    "    \"Hamburg Port\",\n",
    "    vehicle_type=\"heavy_truck\"\n",
    ")\n",
    "\n",
    "print(f\"Optimal Route: {route.distance/1000:.1f} km\")\n",
    "print(f\"Estimated Emissions: {emissions} kg CO₂\")"
   ]
  },
  {
   "cell_type": "code",
   "execution_count": null,
   "metadata": {
    "vscode": {
     "languageId": "plaintext"
    }
   },
   "outputs": [],
   "source": [
    "def optimize_multi_stop(waypoints, constraints):\n",
    "    \"\"\"Optimize route with multiple stops\"\"\"\n",
    "    gh = GraphHopperClient()\n",
    "    \n",
    "    # Get coordinates\n",
    "    points = [ox.geocode(w) for w in waypoints]\n",
    "    \n",
    "    # Get distance matrix\n",
    "    matrix = gh.calculate_distance_matrix(points)\n",
    "    \n",
    "    # Solve TSP\n",
    "    optimal_order = solve_tsp(matrix['durations'])\n",
    "    \n",
    "    # Build final route\n",
    "    optimized_route = []\n",
    "    for i in range(len(optimal_order)-1):\n",
    "        origin = points[optimal_order[i]]\n",
    "        dest = points[optimal_order[i+1]]\n",
    "        optimized_route += gh.get_route(\n",
    "            RouteOptimizationRequest([origin, dest])\n",
    "        )\n",
    "    \n",
    "    return optimized_route"
   ]
  },
  {
   "cell_type": "code",
   "execution_count": null,
   "metadata": {
    "vscode": {
     "languageId": "plaintext"
    }
   },
   "outputs": [],
   "source": [
    "waypoints = [\n",
    "    \"Berlin Warehouse\",\n",
    "    \"Potsdam DC\",\n",
    "    \"Leipzig Factory\",\n",
    "    \"Dresden Retail\"\n",
    "]\n",
    "optimized_route = optimize_multi_stop(waypoints, constraints={\n",
    "    'max_duration': 8*3600,\n",
    "    'vehicle_capacity': 8000\n",
    "})"
   ]
  },
  {
   "cell_type": "markdown",
   "metadata": {},
   "source": [
    "# ## 5. Carbon-Aware Routing\n"
   ]
  },
  {
   "cell_type": "code",
   "execution_count": null,
   "metadata": {
    "vscode": {
     "languageId": "plaintext"
    }
   },
   "outputs": [],
   "source": [
    "def compare_routes(origin, destination):\n",
    "    \"\"\"Compare different transport modes\"\"\"\n",
    "    modes = ['truck', 'train', 'ship']\n",
    "    results = []\n",
    "    \n",
    "    for mode in modes:\n",
    "        route = optimize_single_route(origin, destination, mode)\n",
    "        emissions = CarbonCalculator().calculate_co2(\n",
    "            route.distance/1000, \n",
    "            vehicle_type=mode,\n",
    "            load_kg=5000\n",
    "        )\n",
    "        results.append({\n",
    "            'mode': mode,\n",
    "            'distance': route.distance,\n",
    "            'emissions': emissions,\n",
    "            'cost': estimate_cost(route, mode)\n",
    "        })\n",
    "    \n",
    "    return pd.DataFrame(results)"
   ]
  },
  {
   "cell_type": "code",
   "execution_count": null,
   "metadata": {
    "vscode": {
     "languageId": "plaintext"
    }
   },
   "outputs": [],
   "source": [
    "comparison = compare_routes(\"Frankfurt\", \"Milan\")\n",
    "comparison.style.background_gradient(cmap='viridis')"
   ]
  },
  {
   "cell_type": "code",
   "execution_count": null,
   "metadata": {
    "vscode": {
     "languageId": "plaintext"
    }
   },
   "outputs": [],
   "source": [
    "def log_route_to_blockchain(route_details):\n",
    "    \"\"\"Record optimized route on blockchain\"\"\"\n",
    "    integrator = BlockchainIntegrator()\n",
    "    contract = integrator.get_contract()\n",
    "    \n",
    "    tx_receipt = contract.functions.logRoute(\n",
    "        route_details['hash'],\n",
    "        int(route_details['distance']),\n",
    "        int(route_details['emissions']*1000),  # Convert to grams\n",
    "        int(datetime.now().timestamp())\n",
    "    ).transact({\n",
    "        'gas': 200000,\n",
    "        'gasPrice': integrator.w3.toWei('50', 'gwei')\n",
    "    })\n",
    "    \n",
    "    return tx_receipt"
   ]
  },
  {
   "cell_type": "markdown",
   "metadata": {},
   "source": [
    "# Example blockchain logging"
   ]
  },
  {
   "cell_type": "code",
   "execution_count": null,
   "metadata": {
    "vscode": {
     "languageId": "plaintext"
    }
   },
   "outputs": [],
   "source": [
    "route_details = {\n",
    "    'hash': '0x123...optimized-route-hash',\n",
    "    'distance': optimized_route.distance,\n",
    "    'emissions': emissions\n",
    "}\n",
    "receipt = log_route_to_blockchain(route_details)\n",
    "print(f\"Blockchain TX Hash: {receipt.transactionHash.hex()}\")\n"
   ]
  },
  {
   "cell_type": "code",
   "execution_count": null,
   "metadata": {
    "vscode": {
     "languageId": "plaintext"
    }
   },
   "outputs": [],
   "source": [
    "def plot_optimized_route(route):\n",
    "    \"\"\"Create interactive route map\"\"\"\n",
    "    m = folium.Map(location=route[0].geometry.coords[0][::-1], zoom_start=8)\n",
    "    \n",
    "    # Add route segments\n",
    "    for segment in route:\n",
    "        folium.PolyLine(\n",
    "            locations=[(lat, lon) for lon, lat in segment.geometry.coords],\n",
    "            color='#FF0000',\n",
    "            weight=3\n",
    "        ).add_to(m)\n",
    "    \n",
    "    # Add markers\n",
    "    MarkerCluster().add_to(m)\n",
    "    for idx, point in enumerate(route.waypoints):\n",
    "        folium.Marker(\n",
    "            location=point[::-1],\n",
    "            popup=f\"Stop {idx+1}\",\n",
    "            icon=folium.Icon(color='green' if idx==0 else 'blue')\n",
    "        ).add_to(m)\n",
    "        \n",
    "    return m"
   ]
  },
  {
   "cell_type": "markdown",
   "metadata": {},
   "source": [
    "# Display interactive map"
   ]
  }
 ],
 "metadata": {
  "language_info": {
   "name": "python"
  }
 },
 "nbformat": 4,
 "nbformat_minor": 2
}
